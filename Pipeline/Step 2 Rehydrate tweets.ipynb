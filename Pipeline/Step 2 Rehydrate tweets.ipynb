{
 "cells": [
  {
   "cell_type": "markdown",
   "id": "fee28e2e-c3c7-4f81-a915-458a63c6f800",
   "metadata": {},
   "source": [
    "# 2. Rehydrate tweets from the BTW17 collection"
   ]
  },
  {
   "cell_type": "markdown",
   "id": "7e756a17-d575-477d-8308-581a24ea1ac1",
   "metadata": {},
   "source": [
    "**In this step, each users tweets are rehydrated to see which tweets still exists. The resulting dataframes also specify the error code if a tweet could not be retrieved. Each dataframe is stored in a directory.**"
   ]
  },
  {
   "cell_type": "markdown",
   "id": "f930ce92-1a3a-4dc0-bdaf-059184388f9a",
   "metadata": {},
   "source": [
    "## Libraries"
   ]
  },
  {
   "cell_type": "code",
   "execution_count": null,
   "id": "7c8821ed-f036-45e2-adbe-7b748425e260",
   "metadata": {
    "tags": []
   },
   "outputs": [],
   "source": [
    "library(tidyverse)\n",
    "library(academictwitteR)\n",
    "\n",
    "# disable scientific notation for long integers\n",
    "options(scipen = 999)"
   ]
  },
  {
   "cell_type": "markdown",
   "id": "68c6c82f-436d-4380-b612-27db69c9ef1b",
   "metadata": {},
   "source": [
    "## Parameters"
   ]
  },
  {
   "cell_type": "code",
   "execution_count": null,
   "id": "41f820cf-6f54-4ae2-8350-dcdadcbe84cf",
   "metadata": {},
   "outputs": [],
   "source": [
    "# store list of userids (numeric type!) here\n",
    "userlist <- list(36327895, 25816024, 21788339, 136266976,999)\n",
    "\n",
    "# it is recommended store twitter bearer token in a file\n",
    "# or, you can also type it directly, but make sure to keep it private (e.g. not push to GitHub)\n",
    "# twitter_token <- \"'Bearer AAAA...\"\n",
    "twitter_token <- readLines(\"~/.tw_br/.br\")\n",
    "\n",
    "# directory in which the dataframe from MongoDB are stored\n",
    "# only change if a the default was changed in step 1\n",
    "mongo_folder <- \"data/MongoDB_dataframes/\""
   ]
  },
  {
   "cell_type": "markdown",
   "id": "a2b4062d-2231-4ea9-8908-d7b2eeac0e1d",
   "metadata": {
    "tags": []
   },
   "source": [
    "## Functions"
   ]
  },
  {
   "cell_type": "markdown",
   "id": "dfa4e6ed-373e-4f61-bd78-2a642d82ccdd",
   "metadata": {},
   "source": [
    "### get_tweetids()\n",
    "- This function takes an userid and extracts all the tweetids in it's associated mongo dataframe"
   ]
  },
  {
   "cell_type": "code",
   "execution_count": null,
   "id": "1de8548d-0abb-4459-90aa-2f0db6bddd42",
   "metadata": {},
   "outputs": [],
   "source": [
    "get_tweetids <- function(userid, mongo_folder){\n",
    "  \n",
    "  df <- readRDS(file = paste0(mongo_folder, userid, \".rds\"))\n",
    "  \n",
    "  res <- df %>% \n",
    "    select(`_id`) %>%\n",
    "    mutate(`_id` = as.character(`_id`)) %>%\n",
    "    rename(tweetid = `_id`)\n",
    "  \n",
    "    return(res$tweetid)\n",
    "  \n",
    "}"
   ]
  },
  {
   "cell_type": "markdown",
   "id": "4ee0cb55-74cd-413d-b3be-1702396e8170",
   "metadata": {},
   "source": [
    "### rehydrate()\n",
    "- This function takes the userlist and the directory of mongodb dataframes to rehydrate each users tweets\n",
    "- If a destination folder is specified (relative path!), the dataframe gets stored there. Otherwise a default folder called \"Rehydrated tweets/\" is created"
   ]
  },
  {
   "cell_type": "code",
   "execution_count": null,
   "id": "456b1aaf-1dcb-40d4-a89f-9dab02e95460",
   "metadata": {},
   "outputs": [],
   "source": [
    "rehydrate <- function(userlist, mongo_folder, destination_folder = NULL){\n",
    "    \n",
    "    # destination specified -> destination is created\n",
    "    if(!is.null(destination_folder)){\n",
    "        \n",
    "        if(!dir.exists(destination_folder)){  \n",
    "            dir.create(destination_folder, recursive = TRUE)\n",
    "        }\n",
    "    \n",
    "    # otherwise a default directory is created\n",
    "    } else{\n",
    "        \n",
    "        if(!dir.exists(\"data/MongoDB_rehydrated_dataframes/\")){  \n",
    "            dir.create(\"data/MongoDB_rehydrated_dataframes/\", recursive = TRUE)\n",
    "        }\n",
    "        \n",
    "        destination_folder <- \"data/MongoDB_rehydrated_dataframes/\"\n",
    "    }\n",
    "    \n",
    "    \n",
    "    \n",
    "    # iterate through userlist\n",
    "    for(userid in userlist){\n",
    "        \n",
    "        # if file doesn't exist, skip to next user\n",
    "        if(!file.exists(paste0(mongo_folder, userid, \".rds\"))){\n",
    "            next\n",
    "            \n",
    "        # otherwise read tweet ids of user \n",
    "        } else{\n",
    "            \n",
    "            # call hydrate_tweets from academictwitteR\n",
    "            res <- hydrate_tweets(get_tweetids(userid, mongo_folder),\n",
    "                                  bearer_token = twitter_token,\n",
    "                                  bind_tweets = TRUE,\n",
    "                                  errors = TRUE,\n",
    "                                  verbose = FALSE)\n",
    "            \n",
    "            # and save the file\n",
    "            saveRDS(res, file = paste0(destination_folder, userid, \".rds\"))\n",
    "            \n",
    "        }\n",
    "  }\n",
    "  return(\"SUCCESS\")\n",
    "}"
   ]
  },
  {
   "cell_type": "markdown",
   "id": "4a2c0c01-d17d-469e-8afa-d5c3e0071bf3",
   "metadata": {
    "tags": []
   },
   "source": [
    "## Run"
   ]
  },
  {
   "cell_type": "code",
   "execution_count": null,
   "id": "414edb42-158e-4700-bb84-4b71e3f71632",
   "metadata": {},
   "outputs": [],
   "source": [
    "rehydrate(userlist, mongo_folder, destination_folder = 'data/MongoDB_rehydrated_dataframes/')"
   ]
  }
 ],
 "metadata": {
  "kernelspec": {
   "display_name": "R",
   "language": "R",
   "name": "ir"
  },
  "language_info": {
   "codemirror_mode": "r",
   "file_extension": ".r",
   "mimetype": "text/x-r-source",
   "name": "R",
   "pygments_lexer": "r",
   "version": "3.6.1"
  }
 },
 "nbformat": 4,
 "nbformat_minor": 5
}
